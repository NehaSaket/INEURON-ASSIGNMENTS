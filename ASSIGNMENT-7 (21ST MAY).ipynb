{
 "cells": [
  {
   "cell_type": "markdown",
   "id": "349139a5",
   "metadata": {},
   "source": [
    "# ASSIGNMENT- 7 (21ST MAY)"
   ]
  },
  {
   "cell_type": "raw",
   "id": "584312db",
   "metadata": {},
   "source": [
    "Q.1. Create two int type variables, apply addition, subtraction, division and multiplications\n",
    "and store the results in variables. Then print the data in the following format by calling the\n",
    "variables:\n",
    "\n",
    "First variable is __ & second variable is __.\n",
    "Addition: __ + __ = __\n",
    "Subtraction: __ - __ = __\n",
    "Multiplication: __ * __ = __\n",
    "Division: __ / __ = __"
   ]
  },
  {
   "cell_type": "code",
   "execution_count": 1,
   "id": "1e2e966f",
   "metadata": {},
   "outputs": [
    {
     "name": "stdout",
     "output_type": "stream",
     "text": [
      "First variable is 10 & second variable is 5\n",
      "Addition: 10 + 5 = 15\n",
      "Subtraction: 10 - 5 = 5\n",
      "Multiplication: 10 * 5 = 50\n",
      "Division: 10 / 5 = 2.0\n"
     ]
    }
   ],
   "source": [
    "# Creating two int type variables\n",
    "first_variable = 10\n",
    "second_variable = 5\n",
    "\n",
    "# Performing operations and storing results in variables\n",
    "addition_result = first_variable + second_variable\n",
    "subtraction_result = first_variable - second_variable\n",
    "multiplication_result = first_variable * second_variable\n",
    "division_result = first_variable / second_variable\n",
    "\n",
    "# Printing the data in the specified format\n",
    "print(\"First variable is\", first_variable, \"& second variable is\", second_variable)\n",
    "print(\"Addition:\", first_variable, \"+\", second_variable, \"=\", addition_result)\n",
    "print(\"Subtraction:\", first_variable, \"-\", second_variable, \"=\", subtraction_result)\n",
    "print(\"Multiplication:\", first_variable, \"*\", second_variable, \"=\", multiplication_result)\n",
    "print(\"Division:\", first_variable, \"/\", second_variable, \"=\", division_result)\n"
   ]
  },
  {
   "cell_type": "raw",
   "id": "6e12e637",
   "metadata": {},
   "source": [
    "Q.2. What is the difference between the following operators:\n",
    "(i) ‘/’ & ‘//’\n",
    "(ii) ‘**’ & ‘^’"
   ]
  },
  {
   "cell_type": "markdown",
   "id": "57b94687",
   "metadata": {},
   "source": [
    "Ans- (i) ‘/’ & ‘//’ Operators:\n",
    "\n",
    "\"/\" (Division Operator): This operator is used for performing division between two numbers. It results in a floating-point (decimal) number, even if the division is between two integers. For example, 10 / 3 would result in 3.333....\n",
    "\n",
    "\"//\" (Floor Division Operator): This operator is used for performing division between two numbers, but it discards the fractional part and returns the largest integer less than or equal to the division result. It effectively performs integer division. For example, 10 // 3 would result in 3.\n",
    "\n",
    "(ii)  ‘**’ & ‘^’ Operators:\n",
    "\n",
    "\"**\" (Exponentiation Operator): This operator is used to raise a number to a power. For example, 2 ** 3 would result in 8, as it calculates 2 raised to the power of 3.\n",
    "\n",
    "\"^\" (Bitwise XOR Operator): In Python, the ^ operator is used as a bitwise XOR (exclusive OR) operator. It performs a bitwise XOR operation on the individual bits of two integers. For example, if you have a = 5 and b = 3, a ^ b would result in 6 because the binary representation of 5 is 0101 and the binary representation of 3 is 0011, and the XOR operation results in 0110, which is 6 in decimal."
   ]
  },
  {
   "cell_type": "markdown",
   "id": "4e9e251b",
   "metadata": {},
   "source": [
    "Q.3. List the logical operators."
   ]
  },
  {
   "cell_type": "raw",
   "id": "7f3cfcb2",
   "metadata": {},
   "source": [
    "Ans- 1. \"and\": The 'and' operator returns True if both of its operands are True, otherwise, it returns                  False.\n",
    "\n",
    "     2. \"or\": The 'or' operator returns True if at least one of its operands is True, otherwise, it                   returns False.\n",
    "\n",
    "    3. \"not\": The 'not' operator is a unary operator that returns the opposite of the boolean value of                 its operand. If the operand is True, not returns False, and if the operand is False,                   not returns True."
   ]
  },
  {
   "cell_type": "markdown",
   "id": "0de40720",
   "metadata": {},
   "source": [
    "Q.4. Explain right shift operator and left shift operator with examples."
   ]
  },
  {
   "cell_type": "raw",
   "id": "bbc0f51c",
   "metadata": {},
   "source": [
    "Ans- Certainly! The right shift (>>) and left shift (<<) operators in Python are used for bitwise operations on integers. They allow us to shift the bits of an integer to the right or left by a specified number of positions. Examples:\n",
    "\n",
    "Right Shift Operator (>>): The right shift operator (>>) shifts the bits of a number to the right by a specified number of positions. This is equivalent to dividing the number by 2 raised to the power of the specified number.\n",
    "\n",
    "Syntax: number >> n\n",
    "\n",
    "Example:"
   ]
  },
  {
   "cell_type": "code",
   "execution_count": 2,
   "id": "5c652494",
   "metadata": {},
   "outputs": [
    {
     "name": "stdout",
     "output_type": "stream",
     "text": [
      "4\n"
     ]
    }
   ],
   "source": [
    "num = 16  # Binary: 10000\n",
    "shifted = num >> 2\n",
    "print(shifted)  # Result: 4 (Binary: 0001)\n"
   ]
  },
  {
   "cell_type": "markdown",
   "id": "ca487a40",
   "metadata": {},
   "source": [
    "In this example, 16 in binary is 10000. When you perform num >> 2, the bits are shifted two positions to the right, resulting in 4 in binary 0001."
   ]
  },
  {
   "cell_type": "markdown",
   "id": "92cc85c0",
   "metadata": {},
   "source": [
    "Left Shift Operator (<<): The left shift operator (<<) shifts the bits of a number to the left by a specified number of positions. This is equivalent to multiplying the number by 2 raised to the power of the specified number.\n",
    "\n",
    "Syntax: number << n\n",
    "\n",
    "Example:"
   ]
  },
  {
   "cell_type": "code",
   "execution_count": 3,
   "id": "acc2a855",
   "metadata": {},
   "outputs": [
    {
     "name": "stdout",
     "output_type": "stream",
     "text": [
      "40\n"
     ]
    }
   ],
   "source": [
    "num = 5   # Binary: 101\n",
    "shifted = num << 3\n",
    "print(shifted)  # Result: 40 (Binary: 101000)\n"
   ]
  },
  {
   "cell_type": "markdown",
   "id": "d722a60a",
   "metadata": {},
   "source": [
    "In this example, 5 in binary is 101. When you perform num << 3, the bits are shifted three positions to the left, resulting in 40 in binary 101000."
   ]
  },
  {
   "cell_type": "markdown",
   "id": "c6d0cb82",
   "metadata": {},
   "source": [
    "Q.5. Create a list containing int type data of length 15. Then write a code to check if 10 is\n",
    "present in the list or not."
   ]
  },
  {
   "cell_type": "code",
   "execution_count": 4,
   "id": "fe635679",
   "metadata": {},
   "outputs": [
    {
     "name": "stdout",
     "output_type": "stream",
     "text": [
      "10 is present in the list.\n"
     ]
    }
   ],
   "source": [
    "#list of integers\n",
    "int_list = [5, 8, 2, 10, 15, 20, 25, 30, 35, 40, 45, 50, 55, 60, 65]\n",
    "\n",
    "#Checking if 10 is present in the list\n",
    "if 10 in int_list:\n",
    "    print(\"10 is present in the list.\")\n",
    "else:\n",
    "    print(\"10 is not present in the list.\")\n"
   ]
  },
  {
   "cell_type": "code",
   "execution_count": null,
   "id": "fafc7d05",
   "metadata": {},
   "outputs": [],
   "source": []
  }
 ],
 "metadata": {
  "kernelspec": {
   "display_name": "Python 3 (ipykernel)",
   "language": "python",
   "name": "python3"
  },
  "language_info": {
   "codemirror_mode": {
    "name": "ipython",
    "version": 3
   },
   "file_extension": ".py",
   "mimetype": "text/x-python",
   "name": "python",
   "nbconvert_exporter": "python",
   "pygments_lexer": "ipython3",
   "version": "3.9.13"
  }
 },
 "nbformat": 4,
 "nbformat_minor": 5
}
