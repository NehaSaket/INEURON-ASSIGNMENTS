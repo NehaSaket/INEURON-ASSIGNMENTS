{
 "cells": [
  {
   "cell_type": "markdown",
   "id": "8d971505",
   "metadata": {},
   "source": [
    "# ASSIGNMENT (2ND JULY OOP)"
   ]
  },
  {
   "cell_type": "code",
   "execution_count": null,
   "id": "e3196a6d",
   "metadata": {},
   "outputs": [],
   "source": [
    "Q1. Explain what inheritance is in object-oriented programming and why it is used."
   ]
  },
  {
   "cell_type": "markdown",
   "id": "629255ae",
   "metadata": {},
   "source": [
    "Ans- Inheritance is a fundamental concept in object-oriented programming (OOP) that allows one class (the subclass or derived class) to inherit the properties (fields and methods) and behavior of another class (the superclass or base class). Inheritance facilitates code reuse and promotes the creation of a hierarchical structure in which classes can share common attributes and functionalities while allowing for specialization and customization.\n",
    "\n",
    "Here's how inheritance works and why it is used:\n",
    "\n",
    "How Inheritance Works:\n",
    "\n",
    "Inheritance is established by creating a new class that derives from an existing class. The new class automatically inherits the attributes and methods of the existing class. The existing class is often referred to as the \"parent class\" or \"superclass,\" and the new class is referred to as the \"child class\" or \"subclass.\" The subclass can further extend the functionality of the superclass by adding new attributes and methods or by overriding existing ones.\n",
    "\n",
    "Why Inheritance is Used:\n",
    "\n",
    "1. Code Reuse: Inheritance promotes the reuse of code. Instead of duplicating code in multiple classes that share similar attributes and behaviors, you can create a common base class and have other classes inherit from it. This reduces code redundancy, makes maintenance easier, and ensures consistent behavior across related classes.\n",
    "\n",
    "2. Hierarchy and Specialization: Inheritance allows you to create a hierarchy of classes. The base class represents a more general concept, while the subclasses represent more specialized concepts that inherit and enhance the behavior of the base class. This hierarchical structure mirrors real-world relationships and provides a way to model complex systems.\n",
    "\n",
    "3. Polymorphism: Inheritance is closely related to polymorphism, another key OOP concept. Polymorphism allows objects of different classes to be treated as instances of a common superclass. This enables you to write more flexible and generic code that can work with different objects interchangeably.\n",
    "\n",
    "4. Efficiency: In some cases, using inheritance can lead to more efficient code. For example, if multiple subclasses share common methods, those methods can be defined in the base class, and the subclasses can reuse them without having to redefine the same code.\n",
    "\n",
    "In summary, inheritance in object-oriented programming is a mechanism that promotes code reuse, establishes a hierarchy of classes, facilitates specialization, and supports polymorphism. It's a powerful tool for building modular and maintainable software systems. However, it's important to use inheritance judiciously and consider alternatives like composition when appropriate, as excessive or poorly designed inheritance hierarchies can lead to complexity and maintenance challenges."
   ]
  },
  {
   "cell_type": "code",
   "execution_count": null,
   "id": "cd29b762",
   "metadata": {},
   "outputs": [],
   "source": [
    "Q2. Discuss the concept of single inheritance and multiple inheritance, highlighting their\n",
    "differences and advantages."
   ]
  },
  {
   "cell_type": "markdown",
   "id": "65c27d08",
   "metadata": {},
   "source": [
    "Ans- Single Inheritance:\n",
    "\n",
    "Single inheritance refers to the object-oriented programming practice where a class can inherit from only one superclass. In other words, a subclass can extend the functionality of only one base class. This is a simpler and more straightforward approach compared to multiple inheritance.\n",
    "\n",
    "Advantages of Single Inheritance:\n",
    "\n",
    "1. Simplicity: Single inheritance leads to simpler class hierarchies. Each class has a clear and direct lineage to a single parent class, making the relationships between classes easier to understand and manage.\n",
    "\n",
    "2. Reduced Ambiguity: With single inheritance, there's no ambiguity about which superclass a method or attribute is inherited from. This reduces the potential for conflicts and makes the code more predictable.\n",
    "\n",
    "3. Avoiding Diamond Problem: The \"diamond problem\" is a challenge that arises in multiple inheritance when a class inherits from two or more classes that share a common ancestor. This can lead to ambiguity in method resolution. Single inheritance avoids the diamond problem entirely, as there's only one path for method resolution.\n",
    "\n",
    "Multiple Inheritance:\n",
    "\n",
    "Multiple inheritance is the concept where a class can inherit from more than one superclass. This means that a subclass can extend the functionality of multiple base classes. While powerful, multiple inheritance introduces complexities and potential issues that need to be carefully managed.\n",
    "\n",
    "Advantages of Multiple Inheritance:\n",
    "\n",
    "1. Code Reuse: Multiple inheritance allows for a higher degree of code reuse. A subclass can inherit attributes and methods from multiple classes, which is beneficial when dealing with different aspects of functionality.\n",
    "\n",
    "2. Modeling Complex Relationships: In scenarios where a class can have characteristics from multiple distinct categories, multiple inheritance can model these relationships more accurately. For instance, a class could inherit properties from both a \"Vehicle\" class and a \"Radio\" class.\n",
    "    \n",
    "    In summary, single inheritance offers simplicity, clear relationships, and avoidance of the diamond problem, but it may limit code reuse and modeling capabilities. Multiple inheritance allows for more extensive code reuse and accurate modeling but introduces challenges related to ambiguity, complexity, and the diamond problem. The choice between single and multiple inheritance depends on the specific requirements of the software being developed and the trade-offs that the developers are willing to make."
   ]
  },
  {
   "cell_type": "markdown",
   "id": "7ac2af66",
   "metadata": {},
   "source": [
    "Q3. Explain the terms \"base class\" and \"derived class\" in the context of inheritance."
   ]
  },
  {
   "cell_type": "markdown",
   "id": "4ef15807",
   "metadata": {},
   "source": [
    "Ans- In the context of inheritance in object-oriented programming (OOP), the terms \"base class\" and \"derived class\" are used to describe the relationship between two classes that are involved in an inheritance hierarchy.\n",
    "\n",
    "Base Class (Superclass):\n",
    "A base class, also known as a superclass or parent class, is the class that serves as the foundation for inheritance. It's the class from which other classes (derived classes) inherit properties (attributes and methods) and behavior. The base class defines a set of common attributes and methods that are intended to be shared by all its derived classes. It represents a more general concept in a class hierarchy.\n",
    "\n",
    "For example, consider a base class called \"Shape\" that defines attributes like \"color\" and methods like \"calculateArea()\" and \"draw()\". Other shapes like \"Circle\" and \"Rectangle\" can then be derived from the \"Shape\" base class.\n",
    "\n",
    "Derived Class (Subclass):\n",
    "A derived class, also known as a subclass or child class, is the class that inherits attributes and methods from a base class. The derived class extends the functionality of the base class by adding new attributes, methods, or by overriding existing methods to provide specialized behavior. It represents a more specific concept that inherits and builds upon the attributes and methods defined in the base class.\n",
    "\n",
    "Using the earlier example, if \"Circle\" and \"Rectangle\" are derived classes from the \"Shape\" base class, they would inherit the \"color\" attribute and methods like \"calculateArea()\" and \"draw()\". However, they could also have their own unique attributes like \"radius\" or \"width\" and \"height\", as well as additional methods specific to their shapes.\n",
    "\n",
    "Inheritance Relationship:\n",
    "The relationship between a base class and a derived class is often depicted as an \"is-a\" relationship. In other words, a derived class \"is-a\" type of the base class. For instance, a \"Circle\" is a type of \"Shape\", and a \"Rectangle\" is also a type of \"Shape\".\n",
    "\n",
    "Overall, the concept of base classes and derived classes allows for the creation of hierarchical structures in OOP, enabling code reuse, specialization, and the modeling of real-world relationships in software systems."
   ]
  },
  {
   "cell_type": "markdown",
   "id": "ab23ea5b",
   "metadata": {},
   "source": [
    "Q4. What is the significance of the \"protected\" access modifier in inheritance? How does\n",
    "it differ from \"private\" and \"public\" modifiers?"
   ]
  },
  {
   "cell_type": "markdown",
   "id": "58936caa",
   "metadata": {},
   "source": [
    "Ans- In object-oriented programming, access modifiers determine the visibility and accessibility of class members (fields and methods) within and outside of the class. The three main access modifiers are \"private,\" \"protected,\" and \"public.\" Each modifier has its own scope of visibility, and they play a crucial role in defining the encapsulation and inheritance characteristics of a class. Here's how the \"protected\" access modifier works and how it differs from \"private\" and \"public\" modifiers:\n",
    "\n",
    "1. Private Access Modifier:\n",
    "When a member of a class is marked as \"private,\" it can only be accessed and modified within the same class. It is not accessible from any derived classes or from external code. This ensures strong encapsulation and restricts direct access to the implementation details of the class.\n",
    "\n",
    "2. Protected Access Modifier:\n",
    "The \"protected\" access modifier allows a member to be accessible within the class that defines it and within its derived classes. In other words, members marked as \"protected\" can be accessed and modified by subclasses, but not by external code or unrelated classes. This provides a balance between encapsulation and inheritance, as it allows derived classes to reuse and extend the behavior of the base class while preventing unrestricted external access.\n",
    "\n",
    "3. Public Access Modifier:\n",
    "A member marked as \"public\" is accessible from anywhere, including within the class, from derived classes, and from external code. It has the least restrictive access level and provides full visibility to all parts of the program. However, using \"public\" members without consideration can break encapsulation and lead to difficulties in managing the internal state of a class.\n",
    "\n",
    "Significance of \"Protected\" in Inheritance:\n",
    "The \"protected\" access modifier is particularly significant in the context of inheritance because it enables a derived class to access and extend the attributes and methods of its base class. This promotes code reuse and specialization while maintaining control over the visibility of these members. By using \"protected\" members, a base class can provide a well-defined interface for its derived classes to build upon, while keeping the internal implementation details hidden from external code.\n",
    "\n",
    "In summary, the \"protected\" access modifier provides a middle ground between the restrictive nature of \"private\" and the wide accessibility of \"public.\" It plays a crucial role in inheritance by allowing derived classes to inherit and extend the behavior of base classes without exposing internal implementation details to external code. This contributes to the principles of encapsulation and modularity in object-oriented programming."
   ]
  },
  {
   "cell_type": "markdown",
   "id": "feb82b6d",
   "metadata": {},
   "source": [
    "Q5. What is the purpose of the \"super\" keyword in inheritance? Provide an example."
   ]
  },
  {
   "cell_type": "markdown",
   "id": "c4782d0b",
   "metadata": {},
   "source": [
    "Ans- The super() keyword is used to access methods and attributes of a superclass (or parent class) in the context of inheritance. It's often used to call methods of the superclass from within the methods of a subclass. The super() function allows you to delegate method calls to the parent class while providing a convenient way to ensure proper method resolution order in multiple inheritance scenarios.\n",
    "\n",
    "Here's an example to illustrate the purpose of the super() keyword in inheritance:"
   ]
  },
  {
   "cell_type": "code",
   "execution_count": 3,
   "id": "33d89f3b",
   "metadata": {},
   "outputs": [
    {
     "name": "stdout",
     "output_type": "stream",
     "text": [
      "Brand: Toyota\n",
      "Year: 2023\n"
     ]
    }
   ],
   "source": [
    "class Vehicle:\n",
    "    def __init__(self, brand):\n",
    "        self.brand = brand\n",
    "\n",
    "    def display_info(self):\n",
    "        print(f\"Brand: {self.brand}\")\n",
    "\n",
    "class Car(Vehicle):\n",
    "    def __init__(self, brand, year):\n",
    "        super().__init__(brand)  # Calling the superclass constructor\n",
    "        self.year = year\n",
    "\n",
    "    def display_info(self):\n",
    "        super().display_info()  # Calling the superclass method\n",
    "        print(f\"Year: {self.year}\")\n",
    "\n",
    "my_car = Car(\"Toyota\", 2023)\n",
    "my_car.display_info()\n"
   ]
  },
  {
   "cell_type": "markdown",
   "id": "dba3f6b3",
   "metadata": {},
   "source": [
    "In this example:\n",
    "\n",
    "1. The Vehicle class defines a constructor that takes a brand parameter and a display_info method to display the brand of the vehicle.\n",
    "    \n",
    "2. The Car class is a subclass of Vehicle. It has an additional attribute year and overrides the display_info method to include the year of the car as well.\n",
    "    \n",
    "3. In the constructor of the Car class, super().__init__(brand) is used to explicitly call the constructor of the superclass (Vehicle). This ensures that the brand attribute of the superclass is initialized correctly.\n",
    "    \n",
    "4. Inside the overridden display_info method of the Car class, super().display_info() is used to call the display_info method of the superclass (Vehicle), providing access to the brand information.\n",
    "\n",
    "By using the super() keyword, you we can maintain a clear relationship between the superclass and subclass, and ensure that we are utilizing and extending the functionality of the superclass in an organized and consistent manner. It's particularly helpful in multiple inheritance scenarios, where it helps in handling method resolution order complexities."
   ]
  },
  {
   "cell_type": "markdown",
   "id": "eb2d7165",
   "metadata": {},
   "source": [
    "Q6. Create a base class called \"Vehicle\" with attributes like \"make\", \"model\", and \"year\".\n",
    "Then, create a derived class called \"Car\" that inherits from \"Vehicle\" and adds an\n",
    "attribute called \"fuel_type\". Implement appropriate methods in both classes."
   ]
  },
  {
   "cell_type": "code",
   "execution_count": 4,
   "id": "0cf66f69",
   "metadata": {},
   "outputs": [
    {
     "name": "stdout",
     "output_type": "stream",
     "text": [
      "Make: Toyota\n",
      "Model: Corolla\n",
      "Year: 2023\n",
      "Fuel Type: Gasoline\n"
     ]
    }
   ],
   "source": [
    "class Vehicle:\n",
    "    def __init__(self, make, model, year):\n",
    "        self.make = make\n",
    "        self.model = model\n",
    "        self.year = year\n",
    "\n",
    "    def display_info(self):\n",
    "        print(f\"Make: {self.make}\")\n",
    "        print(f\"Model: {self.model}\")\n",
    "        print(f\"Year: {self.year}\")\n",
    "\n",
    "class Car(Vehicle):\n",
    "    def __init__(self, make, model, year, fuel_type):\n",
    "        super().__init__(make, model, year)  # Call the base class constructor\n",
    "        self.fuel_type = fuel_type\n",
    "\n",
    "    def display_info(self):\n",
    "        super().display_info()  # Call the base class display_info method\n",
    "        print(f\"Fuel Type: {self.fuel_type}\")\n",
    "\n",
    "# Create an instance of the Car class\n",
    "my_car = Car(\"Toyota\", \"Corolla\", 2023, \"Gasoline\")\n",
    "\n",
    "# Display the information about the car\n",
    "my_car.display_info()\n"
   ]
  },
  {
   "cell_type": "markdown",
   "id": "78d09ef6",
   "metadata": {},
   "source": [
    "Q7. Create a base class called \"Employee\" with attributes like \"name\" and \"salary.\"\n",
    "Derive two classes, \"Manager\" and \"Developer,\" from \"Employee.\" Add an additional\n",
    "attribute called \"department\" for the \"Manager\" class and \"programming_language\"\n",
    "for the \"Developer\" class."
   ]
  },
  {
   "cell_type": "code",
   "execution_count": 7,
   "id": "2f3bd724",
   "metadata": {},
   "outputs": [
    {
     "name": "stdout",
     "output_type": "stream",
     "text": [
      "Manager Information:\n",
      "Name: John Smith\n",
      "Salary: $80000.00\n",
      "Department: Engineering\n",
      "\n",
      "Developer Information:\n",
      "Name: Alice Johnson\n",
      "Salary: $65000.00\n",
      "Programming Language: Python\n"
     ]
    }
   ],
   "source": [
    "class Employee:\n",
    "    def __init__(self, name, salary):\n",
    "        self.name = name\n",
    "        self.salary = salary\n",
    "\n",
    "    def display_info(self):\n",
    "        print(f\"Name: {self.name}\")\n",
    "        print(f\"Salary: ${self.salary:.2f}\")\n",
    "\n",
    "class Manager(Employee):\n",
    "    def __init__(self, name, salary, department):\n",
    "        super().__init__(name, salary)  # Call the base class constructor\n",
    "        self.department = department\n",
    "\n",
    "    def display_info(self):\n",
    "        super().display_info()  # Call the base class display_info method\n",
    "        print(f\"Department: {self.department}\")\n",
    "\n",
    "class Developer(Employee):\n",
    "    def __init__(self, name, salary, programming_language):\n",
    "        super().__init__(name, salary)  # Call the base class constructor\n",
    "        self.programming_language = programming_language\n",
    "\n",
    "    def display_info(self):\n",
    "        super().display_info()  # Call the base class display_info method\n",
    "        print(f\"Programming Language: {self.programming_language}\")\n",
    "\n",
    "# Create instances of the Manager and Developer classes\n",
    "manager = Manager(\"John Smith\", 80000, \"Engineering\")\n",
    "developer = Developer(\"Alice Johnson\", 65000, \"Python\")\n",
    "\n",
    "# Display information about the manager and developer\n",
    "print(\"Manager Information:\")\n",
    "manager.display_info()\n",
    "\n",
    "print(\"\\nDeveloper Information:\")\n",
    "developer.display_info()\n"
   ]
  },
  {
   "cell_type": "markdown",
   "id": "801b136d",
   "metadata": {},
   "source": [
    "Q8. Design a base class called \"Shape\" with attributes like \"colour\" and \"border_width.\"\n",
    "Create derived classes, \"Rectangle\" and \"Circle,\" that inherit from \"Shape\" and add\n",
    "specific attributes like \"length\" and \"width\" for the \"Rectangle\" class and \"radius\" for\n",
    "the \"Circle\" class."
   ]
  },
  {
   "cell_type": "code",
   "execution_count": 8,
   "id": "2b9f7e72",
   "metadata": {},
   "outputs": [
    {
     "name": "stdout",
     "output_type": "stream",
     "text": [
      "Rectangle Information:\n",
      "Colour: Blue\n",
      "Border Width: 2 pixels\n",
      "Length: 10 units\n",
      "Width: 5 units\n",
      "\n",
      "Circle Information:\n",
      "Colour: Red\n",
      "Border Width: 1 pixels\n",
      "Radius: 7 units\n"
     ]
    }
   ],
   "source": [
    "class Shape:\n",
    "    def __init__(self, colour, border_width):\n",
    "        self.colour = colour\n",
    "        self.border_width = border_width\n",
    "\n",
    "    def display_info(self):\n",
    "        print(f\"Colour: {self.colour}\")\n",
    "        print(f\"Border Width: {self.border_width} pixels\")\n",
    "\n",
    "class Rectangle(Shape):\n",
    "    def __init__(self, colour, border_width, length, width):\n",
    "        super().__init__(colour, border_width)  # Call the base class constructor\n",
    "        self.length = length\n",
    "        self.width = width\n",
    "\n",
    "    def display_info(self):\n",
    "        super().display_info()  # Call the base class display_info method\n",
    "        print(f\"Length: {self.length} units\")\n",
    "        print(f\"Width: {self.width} units\")\n",
    "\n",
    "class Circle(Shape):\n",
    "    def __init__(self, colour, border_width, radius):\n",
    "        super().__init__(colour, border_width)  # Call the base class constructor\n",
    "        self.radius = radius\n",
    "\n",
    "    def display_info(self):\n",
    "        super().display_info()  # Call the base class display_info method\n",
    "        print(f\"Radius: {self.radius} units\")\n",
    "\n",
    "# Create instances of the Rectangle and Circle classes\n",
    "rectangle = Rectangle(\"Blue\", 2, 10, 5)\n",
    "circle = Circle(\"Red\", 1, 7)\n",
    "\n",
    "# Display information about the rectangle and circle\n",
    "print(\"Rectangle Information:\")\n",
    "rectangle.display_info()\n",
    "\n",
    "print(\"\\nCircle Information:\")\n",
    "circle.display_info()\n"
   ]
  },
  {
   "cell_type": "markdown",
   "id": "38bd60cf",
   "metadata": {},
   "source": [
    "Q9. Create a base class called \"Device\" with attributes like \"brand\" and \"model.\" Derive\n",
    "two classes, \"Phone\" and \"Tablet,\" from \"Device.\" Add specific attributes like\n",
    "\"screen_size\" for the \"Phone\" class and \"battery_capacity\" for the \"Tablet\" class."
   ]
  },
  {
   "cell_type": "code",
   "execution_count": 9,
   "id": "c8e24b96",
   "metadata": {},
   "outputs": [
    {
     "name": "stdout",
     "output_type": "stream",
     "text": [
      "Phone Information:\n",
      "Brand: Apple\n",
      "Model: iPhone 12\n",
      "Screen Size: 6.1 inches\n",
      "\n",
      "Tablet Information:\n",
      "Brand: Samsung\n",
      "Model: Galaxy Tab S7\n",
      "Battery Capacity: 8000 mAh\n"
     ]
    }
   ],
   "source": [
    "class Device:\n",
    "    def __init__(self, brand, model):\n",
    "        self.brand = brand\n",
    "        self.model = model\n",
    "\n",
    "    def display_info(self):\n",
    "        print(f\"Brand: {self.brand}\")\n",
    "        print(f\"Model: {self.model}\")\n",
    "\n",
    "class Phone(Device):\n",
    "    def __init__(self, brand, model, screen_size):\n",
    "        super().__init__(brand, model)  # Call the base class constructor\n",
    "        self.screen_size = screen_size\n",
    "\n",
    "    def display_info(self):\n",
    "        super().display_info()  # Call the base class display_info method\n",
    "        print(f\"Screen Size: {self.screen_size} inches\")\n",
    "\n",
    "class Tablet(Device):\n",
    "    def __init__(self, brand, model, battery_capacity):\n",
    "        super().__init__(brand, model)  # Call the base class constructor\n",
    "        self.battery_capacity = battery_capacity\n",
    "\n",
    "    def display_info(self):\n",
    "        super().display_info()  # Call the base class display_info method\n",
    "        print(f\"Battery Capacity: {self.battery_capacity} mAh\")\n",
    "\n",
    "# Create instances of the Phone and Tablet classes\n",
    "phone = Phone(\"Apple\", \"iPhone 12\", 6.1)\n",
    "tablet = Tablet(\"Samsung\", \"Galaxy Tab S7\", 8000)\n",
    "\n",
    "# Display information about the phone and tablet\n",
    "print(\"Phone Information:\")\n",
    "phone.display_info()\n",
    "\n",
    "print(\"\\nTablet Information:\")\n",
    "tablet.display_info()\n"
   ]
  },
  {
   "cell_type": "markdown",
   "id": "7984ce73",
   "metadata": {},
   "source": [
    "Q10. Create a base class called \"BankAccount\" with attributes like \"account_number\" and\n",
    "\"balance.\" Derive two classes, \"SavingsAccount\" and \"CheckingAccount,\" from\n",
    "\"BankAccount.\" Add specific methods like \"calculate_interest\" for the\n",
    "\"SavingsAccount\" class and \"deduct_fees\" for the \"CheckingAccount\" class."
   ]
  },
  {
   "cell_type": "code",
   "execution_count": 10,
   "id": "4ed72abc",
   "metadata": {},
   "outputs": [
    {
     "name": "stdout",
     "output_type": "stream",
     "text": [
      "Savings Account Information:\n",
      "Account Number: 12345\n",
      "Balance: $1000.00\n",
      "Interest earned: $25.00\n",
      "\n",
      "Checking Account Information:\n",
      "Account Number: 54321\n",
      "Balance: $500.00\n",
      "Monthly fee deducted. New balance: 490\n"
     ]
    }
   ],
   "source": [
    "class BankAccount:\n",
    "    def __init__(self, account_number, balance):\n",
    "        self.account_number = account_number\n",
    "        self.balance = balance\n",
    "\n",
    "    def display_info(self):\n",
    "        print(f\"Account Number: {self.account_number}\")\n",
    "        print(f\"Balance: ${self.balance:.2f}\")\n",
    "\n",
    "class SavingsAccount(BankAccount):\n",
    "    def __init__(self, account_number, balance, interest_rate):\n",
    "        super().__init__(account_number, balance)  # Call the base class constructor\n",
    "        self.interest_rate = interest_rate\n",
    "\n",
    "    def calculate_interest(self):\n",
    "        interest = self.balance * self.interest_rate / 100\n",
    "        return interest\n",
    "\n",
    "class CheckingAccount(BankAccount):\n",
    "    def __init__(self, account_number, balance, monthly_fee):\n",
    "        super().__init__(account_number, balance)  # Call the base class constructor\n",
    "        self.monthly_fee = monthly_fee\n",
    "\n",
    "    def deduct_fees(self):\n",
    "        self.balance -= self.monthly_fee\n",
    "\n",
    "# Create instances of the SavingsAccount and CheckingAccount classes\n",
    "savings_account = SavingsAccount(\"12345\", 1000, 2.5)\n",
    "checking_account = CheckingAccount(\"54321\", 500, 10)\n",
    "\n",
    "# Display information about the savings account and calculate interest\n",
    "print(\"Savings Account Information:\")\n",
    "savings_account.display_info()\n",
    "interest = savings_account.calculate_interest()\n",
    "print(f\"Interest earned: ${interest:.2f}\")\n",
    "\n",
    "# Display information about the checking account and deduct fees\n",
    "print(\"\\nChecking Account Information:\")\n",
    "checking_account.display_info()\n",
    "checking_account.deduct_fees()\n",
    "print(\"Monthly fee deducted. New balance:\", checking_account.balance)\n"
   ]
  },
  {
   "cell_type": "code",
   "execution_count": null,
   "id": "2ddc2bb4",
   "metadata": {},
   "outputs": [],
   "source": []
  }
 ],
 "metadata": {
  "kernelspec": {
   "display_name": "Python 3 (ipykernel)",
   "language": "python",
   "name": "python3"
  },
  "language_info": {
   "codemirror_mode": {
    "name": "ipython",
    "version": 3
   },
   "file_extension": ".py",
   "mimetype": "text/x-python",
   "name": "python",
   "nbconvert_exporter": "python",
   "pygments_lexer": "ipython3",
   "version": "3.9.13"
  }
 },
 "nbformat": 4,
 "nbformat_minor": 5
}
