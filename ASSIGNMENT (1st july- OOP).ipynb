{
 "cells": [
  {
   "cell_type": "markdown",
   "id": "f8b3d661",
   "metadata": {},
   "source": [
    "# ASSIGNMENT (1st july- OOP)"
   ]
  },
  {
   "cell_type": "markdown",
   "id": "8b2a7193",
   "metadata": {},
   "source": [
    "Q1. What is the primary goal of Object-Oriented Programming (OOP)?"
   ]
  },
  {
   "cell_type": "markdown",
   "id": "64ddca28",
   "metadata": {},
   "source": [
    "Ans- The primary goal of Object-Oriented Programming (OOP) is to organize and manage complex software systems by modeling them as a collection of interacting objects, each encapsulating data and behavior. OOP aims to promote modular design, code reusability, and maintainability by providing a structured way to represent real-world entities and their interactions in a software application."
   ]
  },
  {
   "cell_type": "markdown",
   "id": "4ca3a1b9",
   "metadata": {},
   "source": [
    "Q2. What is an object in Python?"
   ]
  },
  {
   "cell_type": "markdown",
   "id": "3d4aa3b2",
   "metadata": {},
   "source": [
    "Ans- In Python, an object is a fundamental concept that represents a real-world entity or a data structure with both attributes (data) and methods (functions) that operate on that data. Everything in Python is an object, and the entire programming paradigm of Python is based on Object-Oriented Programming (OOP) principles.\n",
    "\n",
    "An object is an instance of a class, and a class is a blueprint that defines the structure and behavior of objects."
   ]
  },
  {
   "cell_type": "markdown",
   "id": "2511e7d2",
   "metadata": {},
   "source": [
    "Q3. What is a class in Python?"
   ]
  },
  {
   "cell_type": "markdown",
   "id": "7c5737f8",
   "metadata": {},
   "source": [
    "Ans- In Python, a class is a blueprint or a template that defines the structure, attributes, and behaviors of objects. It serves as a prototype from which you can create individual instances (objects) that share the same characteristics and behaviors defined by the class.\n",
    "\n",
    "A class contains attributes, which are variables that store data, and methods, which are functions that define the operations that can be performed on objects of that class. Classes provide a way to organize and encapsulate related data and functionality into a single unit."
   ]
  },
  {
   "cell_type": "markdown",
   "id": "2b9b4860",
   "metadata": {},
   "source": [
    "Q4. What are attributes and methods in a class?"
   ]
  },
  {
   "cell_type": "markdown",
   "id": "42e4dbba",
   "metadata": {},
   "source": [
    "Ans- In a class in Python, attributes and methods are two fundamental components that define the structure, behavior, and characteristics of objects created from that class.\n",
    "\n",
    "1. Attributes: Attributes are variables that store data associated with an object. They represent the state or characteristics of an object. Each object created from a class can have its own unique set of attribute values. Attributes are defined within the class's constructor method (__init__) and are accessed using the self keyword.\n",
    "\n",
    "2. Methods: Methods are functions defined within a class that define the behaviors or actions that objects of that class can perform. They operate on the attributes and can modify the object's state or provide useful functionality. Methods are defined using the def keyword and accept the self parameter as their first argument, which refers to the instance on which the method is called.\n",
    "\n",
    "Attributes and methods work together to define the characteristics and behavior of objects in a class. Attributes store the data that methods operate on, and methods provide the operations that can be performed on the attributes. This encapsulation of data and behavior within a class promotes modularity and code reusability."
   ]
  },
  {
   "cell_type": "markdown",
   "id": "6c1354f8",
   "metadata": {},
   "source": [
    "Q5. What is the difference between class variables and instance variables in Python?"
   ]
  },
  {
   "cell_type": "raw",
   "id": "ff0505e6",
   "metadata": {},
   "source": [
    "Ans- In Python, class variables and instance variables are two types of variables that can be defined within a class, but they have different scopes and purposes:\n",
    "\n",
    "Class Variables:\n",
    "1. Class variables are variables that are shared among all instances of a class. They are defined at      the class level and are the same for every object created from that class.\n",
    "\n",
    "2. Class variables are typically used to store data that is common to all instances of the class. For    example, configuration settings, constants, or shared information.\n",
    "\n",
    "3. They are accessed using the class name or an instance of the class. If you modify the value of a      class variable using one instance, it will affect the value for all instances of the class.\n",
    "        \n",
    "4. Class variables are defined outside of any method, often at the top of the class definition.\n",
    "\n",
    "\n",
    "Instance Variables:\n",
    "1. Instance variables are unique to each instance (object) of a class. They are defined within the        class's constructor (__init__) and belong to specific instances.\n",
    "\n",
    "2. Instance variables store data that can vary between different instances of the same class. Each        instance has its own separate copy of these variables.\n",
    "        \n",
    "3. They are accessed using the self keyword within methods of the class. Changes made to instance        variables affect only the specific instance they belong to.\n",
    "\n",
    "4. Instance variables are typically used to hold attributes that define the specific state of            individual objects.\n",
    "\n",
    "\n",
    "In summary, class variables are shared among all instances of a class and are used for data that is common to all instances. Instance variables are specific to each instance and hold data unique to that instance. Understanding the distinction between these two types of variables is important for designing and using classes effectively in Python."
   ]
  },
  {
   "cell_type": "markdown",
   "id": "b0ccbdaa",
   "metadata": {},
   "source": [
    "Q6. What is the purpose of the self parameter in Python class methods?"
   ]
  },
  {
   "cell_type": "markdown",
   "id": "2c044234",
   "metadata": {},
   "source": [
    "Ans- In Python class methods, the self parameter is a conventionally used parameter that refers to the instance of the class on which the method is being called. It allows the method to access and manipulate the instance's attributes and perform operations that are specific to that instance.\n",
    "\n",
    "When defining a method in a class, we include the self parameter as the first parameter of the method. This parameter represents the instance itself and is automatically passed when we call the method on an instance. We can name this parameter differently if we wish, but using self is a widely followed convention that helps make the code more readable and understandable.\n",
    "\n",
    "Using the self parameter in class methods ensures that each instance of the class can operate on its own attributes and maintain its individual state. It is a key mechanism for achieving encapsulation and allowing objects to interact with their own data and behavior in a structured way."
   ]
  },
  {
   "cell_type": "raw",
   "id": "0345aa8d",
   "metadata": {},
   "source": [
    "Q7. For a library management system, you have to design the \"Book\" class with OOP\n",
    "    principles in mind. The “Book” class will have following attributes:\n",
    "\n",
    "    a. title: Represents the title of the book.\n",
    "    b. author: Represents the author(s) of the book.\n",
    "    c. isbn: Represents the ISBN (International Standard Book Number) of the book.\n",
    "    d. publication_year: Represents the year of publication of the book.\n",
    "    e. available_copies: Represents the number of copies available for checkout.\n",
    "\n",
    "   The class will also include the following methods:\n",
    "\n",
    "    a. check_out(self): Decrements the available copies by one if there are copies\n",
    "      available for checkout.\n",
    "    b. return_book(self): Increments the available copies by one when a book is\n",
    "     returned.\n",
    "    c. display_book_info(self): Displays the information about the book, including its\n",
    "     attributes and the number of available copies."
   ]
  },
  {
   "cell_type": "code",
   "execution_count": 10,
   "id": "ac8add9f",
   "metadata": {},
   "outputs": [
    {
     "name": "stdout",
     "output_type": "stream",
     "text": [
      "Title: The Fault In Our Stars\n",
      "Author(s): John Green\n",
      "ISBN: 0525478817\n",
      "Publication Year: 2012\n",
      "Available Copies: 5\n",
      "Book 'The Fault In Our Stars' checked out successfully.\n",
      "Book 'The Fault In Our Stars' checked out successfully.\n",
      "Book 'The Fault In Our Stars' returned. Thank you!\n",
      "Title: The Fault In Our Stars\n",
      "Author(s): John Green\n",
      "ISBN: 0525478817\n",
      "Publication Year: 2012\n",
      "Available Copies: 4\n"
     ]
    }
   ],
   "source": [
    "#SOLUTION\n",
    "\n",
    "class Book:\n",
    "    def __init__(self, title, author, isbn, publication_year, available_copies):\n",
    "        self.title = title\n",
    "        self.author = author\n",
    "        self.isbn = isbn\n",
    "        self.publication_year = publication_year\n",
    "        self.available_copies = available_copies\n",
    "    \n",
    "    def check_out(self):\n",
    "        if self.available_copies > 0:\n",
    "            self.available_copies -= 1\n",
    "            print(f\"Book '{self.title}' checked out successfully.\")\n",
    "        else:\n",
    "            print(f\"Sorry, no copies of '{self.title}' are available for checkout.\")\n",
    "    \n",
    "    def return_book(self):\n",
    "        self.available_copies += 1\n",
    "        print(f\"Book '{self.title}' returned. Thank you!\")\n",
    "\n",
    "    def display_book_info(self):\n",
    "        print(f\"Title: {self.title}\")\n",
    "        print(f\"Author(s): {self.author}\")\n",
    "        print(f\"ISBN: {self.isbn}\")\n",
    "        print(f\"Publication Year: {self.publication_year}\")\n",
    "        print(f\"Available Copies: {self.available_copies}\")\n",
    "\n",
    "# Creating an instance of the Book class\n",
    "book1 = Book(\"The Fault In Our Stars\", \"John Green\", \"0525478817\", 2012, 5)\n",
    "\n",
    "# Using methods and displaying book info\n",
    "book1.display_book_info()\n",
    "book1.check_out()\n",
    "book1.check_out()\n",
    "book1.return_book()\n",
    "book1.display_book_info()\n"
   ]
  },
  {
   "cell_type": "raw",
   "id": "f5540fb1",
   "metadata": {},
   "source": [
    "Q8. For a ticket booking system, you have to design the \"Ticket\" class with OOP\n",
    "principles in mind. The “Ticket” class should have the following attributes:\n",
    "    \n",
    "  a. ticket_id: Represents the unique identifier for the ticket.\n",
    "  b. event_name: Represents the name of the event.\n",
    "  c. event_date: Represents the date of the event.\n",
    "  d. venue: Represents the venue of the event.\n",
    "  e. seat_number: Represents the seat number associated with the ticket.\n",
    "  f. price: Represents the price of the ticket.\n",
    "  g. is_reserved: Represents the reservation status of the ticket.\n",
    "\n",
    "  The class also includes the following methods:\n",
    "    \n",
    "  a. reserve_ticket(self): Marks the ticket as reserved if it is not already reserved.\n",
    "  b. cancel_reservation(self): Cancels the reservation of the ticket if it is already\n",
    "     reserved.\n",
    "  c. display_ticket_info(self): Displays the information about the ticket, including its\n",
    "     attributes and reservation status."
   ]
  },
  {
   "cell_type": "code",
   "execution_count": 11,
   "id": "a4a0227d",
   "metadata": {},
   "outputs": [
    {
     "name": "stdout",
     "output_type": "stream",
     "text": [
      "Ticket ID: T123\n",
      "Event Name: Concert\n",
      "Event Date: 2023-09-15\n",
      "Venue: Music Hall\n",
      "Seat Number: A23\n",
      "Price: $50\n",
      "Reservation Status: Not Reserved\n",
      "Ticket T123 for 'Concert' is now reserved.\n",
      "Ticket ID: T123\n",
      "Event Name: Concert\n",
      "Event Date: 2023-09-15\n",
      "Venue: Music Hall\n",
      "Seat Number: A23\n",
      "Price: $50\n",
      "Reservation Status: Reserved\n",
      "Reservation for ticket T123 has been canceled.\n",
      "Ticket ID: T123\n",
      "Event Name: Concert\n",
      "Event Date: 2023-09-15\n",
      "Venue: Music Hall\n",
      "Seat Number: A23\n",
      "Price: $50\n",
      "Reservation Status: Not Reserved\n"
     ]
    }
   ],
   "source": [
    "#SOLUTION\n",
    "\n",
    "class Ticket:\n",
    "    def __init__(self, ticket_id, event_name, event_date, venue, seat_number, price, is_reserved=False):\n",
    "        self.ticket_id = ticket_id\n",
    "        self.event_name = event_name\n",
    "        self.event_date = event_date\n",
    "        self.venue = venue\n",
    "        self.seat_number = seat_number\n",
    "        self.price = price\n",
    "        self.is_reserved = is_reserved\n",
    "    \n",
    "    def reserve_ticket(self):\n",
    "        if not self.is_reserved:\n",
    "            self.is_reserved = True\n",
    "            print(f\"Ticket {self.ticket_id} for '{self.event_name}' is now reserved.\")\n",
    "        else:\n",
    "            print(\"This ticket is already reserved.\")\n",
    "\n",
    "    def cancel_reservation(self):\n",
    "        if self.is_reserved:\n",
    "            self.is_reserved = False\n",
    "            print(f\"Reservation for ticket {self.ticket_id} has been canceled.\")\n",
    "        else:\n",
    "            print(\"This ticket is not reserved, so there's nothing to cancel.\")\n",
    "\n",
    "    def display_ticket_info(self):\n",
    "        print(f\"Ticket ID: {self.ticket_id}\")\n",
    "        print(f\"Event Name: {self.event_name}\")\n",
    "        print(f\"Event Date: {self.event_date}\")\n",
    "        print(f\"Venue: {self.venue}\")\n",
    "        print(f\"Seat Number: {self.seat_number}\")\n",
    "        print(f\"Price: ${self.price}\")\n",
    "        print(f\"Reservation Status: {'Reserved' if self.is_reserved else 'Not Reserved'}\")\n",
    "\n",
    "# Creating an instance of the Ticket class\n",
    "ticket1 = Ticket(\"T123\", \"Concert\", \"2023-09-15\", \"Music Hall\", \"A23\", 50)\n",
    "\n",
    "# Using methods and displaying ticket info\n",
    "ticket1.display_ticket_info()\n",
    "ticket1.reserve_ticket()\n",
    "ticket1.display_ticket_info()\n",
    "ticket1.cancel_reservation()\n",
    "ticket1.display_ticket_info()\n"
   ]
  },
  {
   "cell_type": "raw",
   "id": "3561811d",
   "metadata": {},
   "source": [
    "Q9. You are creating a shopping cart for an e-commerce website. Using OOP to model\n",
    "the \"ShoppingCart\" functionality the class should contain following attributes and\n",
    "methods:\n",
    "    \n",
    "  a. items: Represents the list of items in the shopping cart.\n",
    "     The class also includes the following methods:\n",
    "  b. add_item(self, item): Adds an item to the shopping cart by appending it to the\n",
    "     list of items.\n",
    "  c. remove_item(self, item): Removes an item from the shopping cart if it exists in\n",
    "     the list.\n",
    "  d. view_cart(self): Displays the items currently present in the shopping cart.\n",
    "  e. clear_cart(self): Clears all items from the shopping cart by reassigning an\n",
    "     empty list to the items attribute."
   ]
  },
  {
   "cell_type": "code",
   "execution_count": 12,
   "id": "0356bba7",
   "metadata": {},
   "outputs": [
    {
     "name": "stdout",
     "output_type": "stream",
     "text": [
      "Item 'Laptop' added to the shopping cart.\n",
      "Item 'Headphones' added to the shopping cart.\n",
      "Items in the shopping cart:\n",
      "- Laptop\n",
      "- Headphones\n",
      "Item 'Laptop' removed from the shopping cart.\n",
      "Items in the shopping cart:\n",
      "- Headphones\n",
      "Shopping cart has been cleared.\n",
      "The shopping cart is empty.\n"
     ]
    }
   ],
   "source": [
    "#SOLUTION\n",
    "\n",
    "class ShoppingCart:\n",
    "    def __init__(self):\n",
    "        self.items = []\n",
    "    \n",
    "    def add_item(self, item):\n",
    "        self.items.append(item)\n",
    "        print(f\"Item '{item}' added to the shopping cart.\")\n",
    "\n",
    "    def remove_item(self, item):\n",
    "        if item in self.items:\n",
    "            self.items.remove(item)\n",
    "            print(f\"Item '{item}' removed from the shopping cart.\")\n",
    "        else:\n",
    "            print(f\"Item '{item}' is not in the shopping cart.\")\n",
    "\n",
    "    def view_cart(self):\n",
    "        if self.items:\n",
    "            print(\"Items in the shopping cart:\")\n",
    "            for item in self.items:\n",
    "                print(\"-\", item)\n",
    "        else:\n",
    "            print(\"The shopping cart is empty.\")\n",
    "\n",
    "    def clear_cart(self):\n",
    "        self.items = []\n",
    "        print(\"Shopping cart has been cleared.\")\n",
    "\n",
    "# Creating an instance of the ShoppingCart class\n",
    "cart = ShoppingCart()\n",
    "\n",
    "# Using methods to manipulate the shopping cart\n",
    "cart.add_item(\"Laptop\")\n",
    "cart.add_item(\"Headphones\")\n",
    "cart.view_cart()\n",
    "cart.remove_item(\"Laptop\")\n",
    "cart.view_cart()\n",
    "cart.clear_cart()\n",
    "cart.view_cart()"
   ]
  },
  {
   "cell_type": "raw",
   "id": "552a5ce6",
   "metadata": {},
   "source": [
    "Q10. Imagine a school management system. You have to design the \"Student\" class using\n",
    "     OOP concepts.The “Student” class has the following attributes:\n",
    "\n",
    "    a. name: Represents the name of the student.\n",
    "    b. age: Represents the age of the student.\n",
    "    c. grade: Represents the grade or class of the student.\n",
    "    d. student_id: Represents the unique identifier for the student.\n",
    "    e. attendance: Represents the attendance record of the student.\n",
    "\n",
    "    The class should also include the following methods:\n",
    "\n",
    "    a. update_attendance(self, date, status): Updates the attendance record of the\n",
    "       student for a given date with the provided status (e.g., present or absent).\n",
    "    b. get_attendance(self): Returns the attendance record of the student.\n",
    "    c. get_average_attendance(self): Calculates and returns the average\n",
    "       attendance percentage of the student based on their attendance record."
   ]
  },
  {
   "cell_type": "code",
   "execution_count": 13,
   "id": "39c83673",
   "metadata": {},
   "outputs": [
    {
     "name": "stdout",
     "output_type": "stream",
     "text": [
      "Attendance updated for Alice on 2023-08-10: present\n",
      "Attendance updated for Alice on 2023-08-11: absent\n",
      "Attendance updated for Alice on 2023-08-12: present\n",
      "Attendance record: {'2023-08-10': 'present', '2023-08-11': 'absent', '2023-08-12': 'present'}\n",
      "Average attendance for Alice: 66.67%\n"
     ]
    }
   ],
   "source": [
    "#SOLUTION\n",
    "\n",
    "class Student:\n",
    "    def __init__(self, name, age, grade, student_id):\n",
    "        self.name = name\n",
    "        self.age = age\n",
    "        self.grade = grade\n",
    "        self.student_id = student_id\n",
    "        self.attendance = {}  # Dictionary to store attendance record (date: status)\n",
    "\n",
    "    def update_attendance(self, date, status):\n",
    "        self.attendance[date] = status\n",
    "        print(f\"Attendance updated for {self.name} on {date}: {status}\")\n",
    "\n",
    "    def get_attendance(self):\n",
    "        return self.attendance\n",
    "\n",
    "    def get_average_attendance(self):\n",
    "        total_days = len(self.attendance)\n",
    "        if total_days == 0:\n",
    "            return 0\n",
    "\n",
    "        present_days = sum(1 for status in self.attendance.values() if status == \"present\")\n",
    "        average_attendance = (present_days / total_days) * 100\n",
    "        return average_attendance\n",
    "\n",
    "# Creating an instance of the Student class\n",
    "student1 = Student(\"Alice\", 15, \"10th\", \"S001\")\n",
    "\n",
    "# Using methods to update attendance, get attendance, and calculate average attendance\n",
    "student1.update_attendance(\"2023-08-10\", \"present\")\n",
    "student1.update_attendance(\"2023-08-11\", \"absent\")\n",
    "student1.update_attendance(\"2023-08-12\", \"present\")\n",
    "\n",
    "attendance_record = student1.get_attendance()\n",
    "print(\"Attendance record:\", attendance_record)\n",
    "\n",
    "average_attendance = student1.get_average_attendance()\n",
    "print(f\"Average attendance for {student1.name}: {average_attendance:.2f}%\")\n"
   ]
  },
  {
   "cell_type": "code",
   "execution_count": null,
   "id": "00e3c866",
   "metadata": {},
   "outputs": [],
   "source": []
  }
 ],
 "metadata": {
  "kernelspec": {
   "display_name": "Python 3 (ipykernel)",
   "language": "python",
   "name": "python3"
  },
  "language_info": {
   "codemirror_mode": {
    "name": "ipython",
    "version": 3
   },
   "file_extension": ".py",
   "mimetype": "text/x-python",
   "name": "python",
   "nbconvert_exporter": "python",
   "pygments_lexer": "ipython3",
   "version": "3.9.13"
  }
 },
 "nbformat": 4,
 "nbformat_minor": 5
}
