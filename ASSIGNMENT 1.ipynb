{
 "cells": [
  {
   "cell_type": "markdown",
   "id": "89fb5e55",
   "metadata": {},
   "source": [
    "                                         ASSIGNMENT 1\n",
    "\n",
    "1. In the below elements which of them are values or an expression? eg:- values can be integer or string and expressions will be mathematical operators.\n",
    "*           EXPRESSION\n",
    "'hello'   VALUE\n",
    "-87.8     VALUE \n",
    "-             EXPRESSION\n",
    "/             EXPRESSION\n",
    "    +        EXPRESSION\n",
    "6             VALUE\n",
    "\n",
    "2. What is the difference between string and variable?\n",
    "ANS.  A Variable is a store of information, variable is any alphabet or group of alphabet which work as temporary storage locations , a variable is used to represent any value\n",
    "\n",
    "A String is usually words, enclosed with \"\"\n",
    "example :::\n",
    " String x=\"anand\";\n",
    " here x is variable and type of value it stores is in string\n",
    "\n",
    "3. Describe three different data types.\n",
    "Ans-\n",
    "  \n",
    "\n",
    "Describing any three:\n",
    "1.\tInteger -This value is represented by int class. It contains positive or negative whole numbers (without fractions or decimals). In Python, there is no limit to how long an integer value can be.\n",
    "\n",
    "2.\tFloat - This value is represented by the float class. It is a real number with a floating-point representation. It is specified by a decimal point. Optionally, the character e or E followed by a positive or negative integer may be appended to specify scientific notation.\n",
    "\n",
    "3.\tString - A string is a collection of one or more characters put in a single quote, double-quote, or triple-quote. In python there is no character data type, a character is a string of length one. It is represented by str class. \n",
    "\n",
    "\n",
    "4. What is an expression made up of? What do all expressions do?\n",
    "Ans- A combination of values and operators is called an expression. The expression in Python produces some value or result after being interpreted by the Python interpreter. An expression in Python is a combination of operators and operands. \n",
    "An example of expression can be : x = x + 1 0 x = x + 10 x=x+10.\n",
    "\n",
    "5. This assignment statements, like spam = 10. What is the difference between an expression and a statement?\n",
    "Ans- An expression evaluates to a single value. A statement does not.\n",
    "\n",
    "6. After running the following code, what does the variable bacon contain?\n",
    "bacon = 22\n",
    "bacon + 1\n",
    "Ans- The bacon variable is set to 22. The bacon + 1 expression does not reassign the value in bacon (that would need an assignment statement: bacon = bacon + 1)\n",
    "\n",
    "7. What should the values of the following two terms be?\n",
    "‘spam’ + ‘spamspam’\n",
    "‘spam’* 3\n",
    "Ans- Both expressions evaluate to the string 'spamspamspam'\n",
    "\n",
    "\n",
    "8. Why is eggs a valid variable name while 100 is invalid?\n",
    "Ans- Variable names cannot begin with a number.\n",
    "\n",
    "9. What three functions can be used to get the integer, floating-point number, or string version of a value?\n",
    "Ans- The int(), float(), and str() functions will evaluate to the integer, floating-point number, and string versions of the value passed to them.\n",
    "\n",
    "10. Why does this expression cause an error? How can you fix it?      ‘I have eaten’+ 99 + ‘burritos’\n",
    "Ans- The expression causes an error because 99 is an integer, and only strings can be concatenated to other strings with the + operator. The correct way is I have eaten ' + str(99) + ' burritos.'.\n"
   ]
  }
 ],
 "metadata": {
  "kernelspec": {
   "display_name": "Python 3 (ipykernel)",
   "language": "python",
   "name": "python3"
  },
  "language_info": {
   "codemirror_mode": {
    "name": "ipython",
    "version": 3
   },
   "file_extension": ".py",
   "mimetype": "text/x-python",
   "name": "python",
   "nbconvert_exporter": "python",
   "pygments_lexer": "ipython3",
   "version": "3.9.13"
  }
 },
 "nbformat": 4,
 "nbformat_minor": 5
}
