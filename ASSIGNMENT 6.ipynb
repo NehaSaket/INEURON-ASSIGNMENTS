{
 "cells": [
  {
   "cell_type": "markdown",
   "id": "deac5a92",
   "metadata": {},
   "source": [
    "# ASSIGNMENT 6"
   ]
  },
  {
   "cell_type": "code",
   "execution_count": null,
   "id": "7991830f",
   "metadata": {},
   "outputs": [],
   "source": [
    "Q1. What are keywords in python? Using the keyword library, print all the python keywords.\n"
   ]
  },
  {
   "cell_type": "markdown",
   "id": "97aeea3a",
   "metadata": {},
   "source": [
    "Ans- In Python, keywords are reserved words that have special meanings and are used to define the syntax and structure of the language. These keywords cannot be used as identifiers (variable names, function names, etc.) because they are already predefined with specific purposes.\n",
    "\n",
    "You can use the keyword module in Python to access a list of all the keywords. \n",
    "Here's how you can print all the Python keywords using the keyword library:"
   ]
  },
  {
   "cell_type": "code",
   "execution_count": 1,
   "id": "fe7a6079",
   "metadata": {},
   "outputs": [
    {
     "name": "stdout",
     "output_type": "stream",
     "text": [
      "['False', 'None', 'True', '__peg_parser__', 'and', 'as', 'assert', 'async', 'await', 'break', 'class', 'continue', 'def', 'del', 'elif', 'else', 'except', 'finally', 'for', 'from', 'global', 'if', 'import', 'in', 'is', 'lambda', 'nonlocal', 'not', 'or', 'pass', 'raise', 'return', 'try', 'while', 'with', 'yield']\n"
     ]
    }
   ],
   "source": [
    "import keyword\n",
    "\n",
    "all_keywords = keyword.kwlist\n",
    "print(all_keywords)"
   ]
  },
  {
   "cell_type": "markdown",
   "id": "e3fc1945",
   "metadata": {},
   "source": [
    "Q2. What are the rules to create variables in python?"
   ]
  },
  {
   "cell_type": "markdown",
   "id": "d2317c68",
   "metadata": {},
   "source": [
    "Ans- In Python, variables are used to store data values. Here are the rules for creating variables in Python:\n",
    "\n",
    "1. Variable Names: Variable names can consist of letters (both lowercase and uppercase), numbers, and underscores. However, they must start with a letter (a-z, A-Z) or an underscore (_). They cannot start with a number or any other special character.\n",
    "\n",
    "2. Case Sensitivity: Python is case-sensitive, so myVariable, MyVariable, and myvariable are considered different variable names.\n",
    "\n",
    "3. Reserved Keywords: You cannot use Python's reserved keywords as variable names. These are the words that have predefined meanings in the language, such as if, else, while, for, def, etc. You can check the list of keywords using the keyword module, as shown in the previous answer.\n",
    "\n",
    "4. Special Characters: Variable names can only contain letters, numbers, and underscores. Special characters like !, @, #, $, %, etc., are not allowed in variable names.\n",
    "\n",
    "5. Spacing: Variable names cannot contain spaces. If you need to represent multiple words, use underscores or the convention known as \"camelCase\" or \"snake_case\". For example, my_variable, camelCaseVariable, snake_case_variable.\n",
    "\n",
    "6. Length: Variable names can be of any length, but it's a good practice to keep them concise and meaningful.\n",
    "\n",
    "7. Unicode Characters: Python allows the use of Unicode characters in variable names, making it possible to use characters from various languages."
   ]
  },
  {
   "cell_type": "markdown",
   "id": "0862a9fb",
   "metadata": {},
   "source": [
    "Q3. What are the standards and conventions followed for the nomenclature of variables in\n",
    "python to improve code readability and maintainability?"
   ]
  },
  {
   "cell_type": "markdown",
   "id": "8f66e626",
   "metadata": {},
   "source": [
    "Ans- Following consistent naming conventions in our Python code helps improve code readability and maintainability. Here are some commonly followed standards and conventions for naming variables in Python:\n",
    "\n",
    "1. Use Descriptive Names: Choose variable names that accurately describe the purpose of the variable.    A well-chosen name can make your code self-explanatory.\n",
    "\n",
    "2. Use lowercase with underscores (snake_case): This is the most widely used convention in Python for    variable names. It involves using all lowercase letters and separating words with underscores. For    example: user_name, total_amount, item_count.\n",
    "\n",
    "3. Avoid Single-letter Names: Except for very simple loops or mathematical formulas, avoid using          single-letter variable names. Instead, use names that indicate the purpose of the variable.\n",
    "\n",
    "4. Constants: For constants that do not change throughout the program, use all uppercase letters with    underscores. For example: MAX_LENGTH, PI.\n",
    "\n",
    "5. Class Names: Use CamelCase (capitalize the first letter of each word without spaces) for class        names. For example: MyClass, CarModel.\n",
    "\n",
    "6. Private Variables: If you want to indicate that a variable is meant for internal use within a class    or module, start its name with a single underscore. For example: _internal_var.\n",
    "\n",
    "7. Protected Variables: To indicate that a variable is \"protected\" (meaning it's meant to be used only    within subclasses), start its name with a double underscore. For example: __protected_var.\n",
    "\n",
    "8. Module Names: Use short, lowercase names for module files (.py files). Avoid using underscores or      special characters in module names.\n",
    "\n",
    "9. Function and Method Names: Use lowercase with underscores (snake_case) for function and method        names. Make them descriptive and follow the same rules as variable names.\n",
    "\n",
    "10. Avoid Ambiguous Names: Avoid using names that could be easily confused with built-in functions or     libraries.\n",
    "\n",
    "11. Avoid \"L\" (lowercase \"ell\") and \"O\" (uppercase \"oh\"): These characters can be easily confused with     the numbers 1 and 0, respectively. It's best to avoid them as variable names.\n",
    "\n",
    "12. Meaningful Abbreviations: If using abbreviations, make sure they are widely understood and             meaningful. For instance, num_items instead of n_i.\n",
    "\n",
    "13. Consistency: Consistency is key. Once you decide on a naming convention, stick to it throughout       your codebase.\n",
    "\n",
    "The primary goal of naming conventions is to make our code more readable and maintainable for ourself and others who might work on the code in the future. Following these conventions helps create a consistent and cohesive coding style across our projects."
   ]
  },
  {
   "cell_type": "markdown",
   "id": "ecb3fe82",
   "metadata": {},
   "source": [
    "Q4. What will happen if a keyword is used as a variable name?"
   ]
  },
  {
   "cell_type": "markdown",
   "id": "1085d6ba",
   "metadata": {},
   "source": [
    "Ans- If we use a keyword as a variable name in Python, we will encounter a syntax error. Keywords are reserved words that have specific meanings and roles in the Python language, and they cannot be redefined or used as identifiers such as variable names, function names, class names, etc.\n",
    "\n",
    "When we attempt to use a keyword as a variable name, Python's parser will identify it as a keyword and not as a valid variable name, leading to a syntax error at compile time.\n",
    "For example:"
   ]
  },
  {
   "cell_type": "code",
   "execution_count": 11,
   "id": "4e804a6f",
   "metadata": {},
   "outputs": [
    {
     "ename": "SyntaxError",
     "evalue": "invalid syntax (4107980356.py, line 1)",
     "output_type": "error",
     "traceback": [
      "\u001b[1;36m  File \u001b[1;32m\"C:\\Users\\agarw\\AppData\\Local\\Temp\\ipykernel_10404\\4107980356.py\"\u001b[1;36m, line \u001b[1;32m1\u001b[0m\n\u001b[1;33m    for = 5  # This will result in a syntax error\u001b[0m\n\u001b[1;37m        ^\u001b[0m\n\u001b[1;31mSyntaxError\u001b[0m\u001b[1;31m:\u001b[0m invalid syntax\n"
     ]
    }
   ],
   "source": [
    "for = 5  # This will result in a syntax error\n",
    "class = \"Python\"  # This will also result in a syntax error\n"
   ]
  },
  {
   "cell_type": "markdown",
   "id": "164a9b59",
   "metadata": {},
   "source": [
    "In both cases, trying to assign a value to the variable names for and class (which are keywords) will cause a syntax error."
   ]
  },
  {
   "cell_type": "markdown",
   "id": "69a163a5",
   "metadata": {},
   "source": [
    "Q5. For what purpose def keyword is used?"
   ]
  },
  {
   "cell_type": "markdown",
   "id": "68d8ffe6",
   "metadata": {},
   "source": [
    "Ans- Python def keyword is used to define a function, it is placed before a function name that is provided by the user to create a user-defined function. In Python, a function is a logical unit of code containing a sequence of statements indented under a name given using the “def” keyword. In Python def keyword is the most used keyword.\n",
    "Example-"
   ]
  },
  {
   "cell_type": "code",
   "execution_count": 12,
   "id": "41cfe52a",
   "metadata": {},
   "outputs": [
    {
     "name": "stdout",
     "output_type": "stream",
     "text": [
      "Hello\n"
     ]
    }
   ],
   "source": [
    "def python_def_keyword():\n",
    "    print(\"Hello\")\n",
    "python_def_keyword()"
   ]
  },
  {
   "cell_type": "markdown",
   "id": "e3bf8fd8",
   "metadata": {},
   "source": [
    "Use of def keyword:\n",
    "1. In the case of classes, the def keyword is used for defining the methods of a class.\n",
    "2. def keyword is also required to define the special member function of a class like __init__()."
   ]
  },
  {
   "cell_type": "markdown",
   "id": "5e91208c",
   "metadata": {},
   "source": [
    "Q6. What is the operation of this special character ‘\\’?"
   ]
  },
  {
   "cell_type": "markdown",
   "id": "c0a4a904",
   "metadata": {},
   "source": [
    "Ans- The backslash character \\ in Python is used as an escape character. It indicates that the character following the backslash should be treated specially, rather than its literal interpretation. This allows you to include special characters or create certain sequences within strings and other literals."
   ]
  },
  {
   "cell_type": "raw",
   "id": "5f4b3aa4",
   "metadata": {},
   "source": [
    "Q7. Give an example of the following conditions:\n",
    "(i) Homogeneous list\n",
    "(ii) Heterogeneous set\n",
    "(iii) Homogeneous tuple"
   ]
  },
  {
   "cell_type": "markdown",
   "id": "988ec33e",
   "metadata": {},
   "source": [
    "Ans- (i) Homogeneous List: A homogeneous list contains elements of the same data type. In this example, all elements are integers."
   ]
  },
  {
   "cell_type": "code",
   "execution_count": 13,
   "id": "3f1ca69a",
   "metadata": {},
   "outputs": [],
   "source": [
    "homogeneous_list = [1, 2, 3, 4, 5]"
   ]
  },
  {
   "cell_type": "markdown",
   "id": "676691e9",
   "metadata": {},
   "source": [
    "(ii) Heterogeneous Set: A heterogeneous set contains elements of different data types. In this example, the set contains a mix of integers, strings, and floats."
   ]
  },
  {
   "cell_type": "code",
   "execution_count": 14,
   "id": "5669033e",
   "metadata": {},
   "outputs": [],
   "source": [
    "heterogeneous_set = {1, \"apple\", 3.14, \"banana\"}"
   ]
  },
  {
   "cell_type": "markdown",
   "id": "9900d56c",
   "metadata": {},
   "source": [
    "(iii) Homogeneous Tuple: A homogeneous tuple contains elements of the same data type. In this example, all elements are strings."
   ]
  },
  {
   "cell_type": "code",
   "execution_count": 15,
   "id": "d3d7a5b6",
   "metadata": {},
   "outputs": [],
   "source": [
    "homogeneous_tuple = (\"apple\", \"banana\", \"cherry\", \"date\")"
   ]
  },
  {
   "cell_type": "markdown",
   "id": "f211519f",
   "metadata": {},
   "source": [
    "Lists and tuples are ordered collections, while sets are unordered collections of unique elements. In Python, we are not restricted to creating homogeneous or heterogeneous collections; we can mix and match data types within lists, tuples, and sets as needed."
   ]
  },
  {
   "cell_type": "markdown",
   "id": "044a43c9",
   "metadata": {},
   "source": [
    "Q8. Explain the mutable and immutable data types with proper explanation & examples."
   ]
  },
  {
   "cell_type": "markdown",
   "id": "69a4a1ba",
   "metadata": {},
   "source": [
    "Ans- Immutable Data Types:\n",
    "Immutable data types are those whose values cannot be changed after they are created. When you perform an operation that seems to modify an immutable object, you are actually creating a new object with the modified value, leaving the original object unchanged.\n",
    "\n",
    "Examples of immutable data types in Python include:\n",
    "\n",
    "1. Integers (int): Once an integer is created, its value cannot be changed.\n",
    "2. Floating-Point Numbers (float): Similar to integers, floating-point numbers are also immutable.\n",
    "3. Strings (str): Strings in Python are immutable. Any modification to a string results in the creation of a new string.\n",
    "4. Tuples: Tuples are immutable sequences. Once a tuple is created, you cannot change its elements or their order.\n",
    "\n",
    "Here's an example using an immutable data type:"
   ]
  },
  {
   "cell_type": "code",
   "execution_count": 18,
   "id": "911190b1",
   "metadata": {},
   "outputs": [
    {
     "name": "stdout",
     "output_type": "stream",
     "text": [
      "hello\n",
      "HELLO\n"
     ]
    }
   ],
   "source": [
    "# Strings are immutable\n",
    "original_string = \"hello\"\n",
    "new_string = original_string.upper()  # This doesn't modify original_string\n",
    "print(original_string)  # Output: \"hello\"\n",
    "print(new_string)  # Output: \"HELLO\"\n"
   ]
  },
  {
   "cell_type": "markdown",
   "id": "a89a831c",
   "metadata": {},
   "source": [
    "Mutable Data Types:\n",
    "Mutable data types are those whose values can be changed after they are created. This means you can modify the object in-place without creating a new object.\n",
    "\n",
    "Examples of mutable data types in Python include:\n",
    "\n",
    "1. Lists: Lists are mutable sequences. You can modify their elements, add new elements, or remove existing ones.\n",
    "2. Dictionaries: Dictionaries are mutable mappings. You can modify, add, or remove key-value pairs.\n",
    "3. Sets: Sets are mutable collections of unique elements. You can add or remove elements from a set.\n",
    "\n",
    "Here's an example using a mutable data type:"
   ]
  },
  {
   "cell_type": "code",
   "execution_count": 19,
   "id": "70377e4e",
   "metadata": {},
   "outputs": [
    {
     "name": "stdout",
     "output_type": "stream",
     "text": [
      "[1, 2, 3, 4]\n"
     ]
    }
   ],
   "source": [
    "# Lists are mutable\n",
    "original_list = [1, 2, 3]\n",
    "original_list.append(4)  # This modifies original_list\n",
    "print(original_list)  # Output: [1, 2, 3, 4]\n"
   ]
  },
  {
   "cell_type": "raw",
   "id": "b94d8658",
   "metadata": {},
   "source": [
    "Q9. Write a code to create the given structure using only for loop.\n",
    "*\n",
    "***\n",
    "*****\n",
    "*******\n",
    "*********"
   ]
  },
  {
   "cell_type": "code",
   "execution_count": 20,
   "id": "d703cd90",
   "metadata": {},
   "outputs": [
    {
     "name": "stdout",
     "output_type": "stream",
     "text": [
      "*\n",
      "***\n",
      "*****\n",
      "*******\n",
      "*********\n"
     ]
    }
   ],
   "source": [
    "for i in range(1, 6):\n",
    "    print(\"*\" * (2 * i - 1))"
   ]
  },
  {
   "cell_type": "raw",
   "id": "2ea8b200",
   "metadata": {},
   "source": [
    "Q10. Write a code to create the given structure using while loop.\n",
    "|||||||||\n",
    "|||||||\n",
    "|||||\n",
    "|||\n",
    "|\n"
   ]
  },
  {
   "cell_type": "code",
   "execution_count": 21,
   "id": "22e046c8",
   "metadata": {},
   "outputs": [
    {
     "name": "stdout",
     "output_type": "stream",
     "text": [
      "|||||\n",
      "||||\n",
      "|||\n",
      "||\n",
      "|\n"
     ]
    }
   ],
   "source": [
    "rows = 5\n",
    "while rows >= 1:\n",
    "    print(\"|\" * rows)\n",
    "    rows -= 1"
   ]
  },
  {
   "cell_type": "code",
   "execution_count": null,
   "id": "374ebe93",
   "metadata": {},
   "outputs": [],
   "source": []
  }
 ],
 "metadata": {
  "kernelspec": {
   "display_name": "Python 3 (ipykernel)",
   "language": "python",
   "name": "python3"
  },
  "language_info": {
   "codemirror_mode": {
    "name": "ipython",
    "version": 3
   },
   "file_extension": ".py",
   "mimetype": "text/x-python",
   "name": "python",
   "nbconvert_exporter": "python",
   "pygments_lexer": "ipython3",
   "version": "3.9.13"
  }
 },
 "nbformat": 4,
 "nbformat_minor": 5
}
