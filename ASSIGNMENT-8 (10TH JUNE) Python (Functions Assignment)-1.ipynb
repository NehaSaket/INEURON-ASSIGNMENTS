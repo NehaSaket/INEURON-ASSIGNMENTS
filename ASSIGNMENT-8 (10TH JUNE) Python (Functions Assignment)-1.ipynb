{
 "cells": [
  {
   "cell_type": "markdown",
   "id": "c4b1714e",
   "metadata": {},
   "source": [
    "# ASSIGNMENT-8 (10TH JUNE) Python (Functions Assignment)-1"
   ]
  },
  {
   "cell_type": "markdown",
   "id": "d71c8aa9",
   "metadata": {},
   "source": [
    "Q1. In Python, what is the difference between a built-in function and a user-defined function? Provide an\n",
    "example of each."
   ]
  },
  {
   "cell_type": "raw",
   "id": "ceef9c61",
   "metadata": {},
   "source": [
    "Ans- In Python, both built-in functions and user-defined functions are used to perform specific tasks or operations. However, there are key differences between them.\n",
    "\n",
    "1. Built-in Function: Built-in functions are functions that are already provided by the Python programming language itself. They are part of the Python standard library and can be used directly without needing to define them. Examples of built-in functions include print(), len(), sum(), max(), min(), and range().\n",
    "\n",
    "Example of a built-in function:"
   ]
  },
  {
   "cell_type": "code",
   "execution_count": 20,
   "id": "4bbd967d",
   "metadata": {},
   "outputs": [
    {
     "name": "stdout",
     "output_type": "stream",
     "text": [
      "Length of the list: 5\n"
     ]
    }
   ],
   "source": [
    "# Using the built-in function len() to find the length of a list\n",
    "my_list = [1, 2, 3, 4, 5]\n",
    "length = len(my_list)\n",
    "print(\"Length of the list:\", length)\n"
   ]
  },
  {
   "cell_type": "raw",
   "id": "1449e9f3",
   "metadata": {},
   "source": [
    "2. User-Defined Function: User-defined functions are functions that are created by the programmer to perform a specific task. They allow you to modularize your code and encapsulate a set of instructions into a single unit that can be reused throughout your program. User-defined functions are created using the def keyword, followed by the function name, parameters (if any), and the function body.\n",
    "\n",
    "Example of a user-defined function:"
   ]
  },
  {
   "cell_type": "code",
   "execution_count": 21,
   "id": "b780b6d0",
   "metadata": {},
   "outputs": [
    {
     "name": "stdout",
     "output_type": "stream",
     "text": [
      "Square of 5: 25\n"
     ]
    }
   ],
   "source": [
    "# Defining a user-defined function to calculate the square of a number\n",
    "def calculate_square(number):\n",
    "    return number ** 2\n",
    "\n",
    "# Calling the user-defined function\n",
    "result = calculate_square(5)\n",
    "print(\"Square of 5:\", result)\n"
   ]
  },
  {
   "cell_type": "markdown",
   "id": "14cdb8cb",
   "metadata": {},
   "source": [
    "Q2. How can you pass arguments to a function in Python? Explain the difference between positional\n",
    "arguments and keyword arguments."
   ]
  },
  {
   "cell_type": "raw",
   "id": "d875bd18",
   "metadata": {},
   "source": [
    "Ans- In Python, we can pass arguments to a function in two main ways: using positional arguments and keyword arguments. Let's explore each of these methods:\n",
    "\n",
    "1. Positional Arguments: Positional arguments are passed to a function based on their position or order. The values we provide when calling the function are matched to the function's parameters in the order they are defined. The number and order of arguments in the function call must match the number and order of parameters in the function definition.\n",
    "\n",
    "Example of using positional arguments:"
   ]
  },
  {
   "cell_type": "code",
   "execution_count": 22,
   "id": "e7a7d50a",
   "metadata": {},
   "outputs": [
    {
     "name": "stdout",
     "output_type": "stream",
     "text": [
      "8\n"
     ]
    }
   ],
   "source": [
    "def add(a, b):\n",
    "    return a + b\n",
    "\n",
    "result = add(5, 3)  # Here, 5 is assigned to 'a' and 3 is assigned to 'b'\n",
    "print(result)  # Output: 8\n"
   ]
  },
  {
   "cell_type": "raw",
   "id": "e4df0447",
   "metadata": {},
   "source": [
    "2. Keyword Arguments: Keyword arguments are passed to a function using the parameter names as keywords. This allows us to provide values for specific parameters out of order, by explicitly stating which parameter each value corresponds to. Keyword arguments are particularly useful when the function has multiple parameters, and we want to be clear about which value is intended for which parameter.\n",
    "\n",
    "Example of using keyword arguments:"
   ]
  },
  {
   "cell_type": "code",
   "execution_count": 23,
   "id": "dcf944fe",
   "metadata": {},
   "outputs": [
    {
     "name": "stdout",
     "output_type": "stream",
     "text": [
      "5.0\n"
     ]
    }
   ],
   "source": [
    "def divide(dividend, divisor):\n",
    "    return dividend / divisor\n",
    "\n",
    "result = divide(divisor=2, dividend=10)  # Using keyword arguments\n",
    "print(result)  # Output: 5.0\n"
   ]
  },
  {
   "cell_type": "markdown",
   "id": "a4563735",
   "metadata": {},
   "source": [
    "Q3. What is the purpose of the return statement in a function? Can a function have multiple return\n",
    "statements? Explain with an example."
   ]
  },
  {
   "cell_type": "markdown",
   "id": "ae6f6c4f",
   "metadata": {},
   "source": [
    "Ans- The return statement in a function serves the purpose of specifying the value or values that the function should provide as its result when it's called. It allows a function to pass back data to the caller. The return statement also immediately terminates the execution of the function, regardless of its position in the function code.\n",
    "\n",
    "Yes, a function can have multiple return statements. However, only one of them will be executed based on the specific condition or path of execution within the function. Once a return statement is executed, the function's execution is halted, and the specified value (or values) are returned to the caller.\n",
    "\n",
    "Here's an example to illustrate the use of the return statement and multiple return statements in a function:"
   ]
  },
  {
   "cell_type": "code",
   "execution_count": 24,
   "id": "f6785701",
   "metadata": {},
   "outputs": [
    {
     "name": "stdout",
     "output_type": "stream",
     "text": [
      "10 is greater than 5\n",
      "3 is smaller than 8\n",
      "7 and 7 are equal\n"
     ]
    }
   ],
   "source": [
    "def compare_numbers(a, b):\n",
    "    if a > b:\n",
    "        return f\"{a} is greater than {b}\"\n",
    "    elif a < b:\n",
    "        return f\"{a} is smaller than {b}\"\n",
    "    else:\n",
    "        return f\"{a} and {b} are equal\"\n",
    "\n",
    "result1 = compare_numbers(10, 5)\n",
    "print(result1)  # Output: \"10 is greater than 5\"\n",
    "\n",
    "result2 = compare_numbers(3, 8)\n",
    "print(result2)  # Output: \"3 is smaller than 8\"\n",
    "\n",
    "result3 = compare_numbers(7, 7)\n",
    "print(result3)  # Output: \"7 and 7 are equal\"\n"
   ]
  },
  {
   "cell_type": "markdown",
   "id": "30f138e6",
   "metadata": {},
   "source": [
    "In this example, the function compare_numbers() takes two numbers as arguments and uses multiple return statements to provide different messages based on the comparison result. Depending on the input values, the function will return one of the possible messages.\n"
   ]
  },
  {
   "cell_type": "markdown",
   "id": "324a1607",
   "metadata": {},
   "source": [
    "Q4. What are lambda functions in Python? How are they different from regular functions? Provide an\n",
    "example where a lambda function can be useful."
   ]
  },
  {
   "cell_type": "raw",
   "id": "fda56fed",
   "metadata": {},
   "source": [
    "Ans- Lambda functions, also known as anonymous functions, are a way to create small, one-line functions in Python without formally defining a full function using the def keyword. Lambda functions are typically used for short, simple operations that can be defined in a single expression. They are often used in situations where you need a function for a short-lived task and don't want to define a regular function using def.\n",
    "\n",
    "Here's the general syntax of a lambda function:\n",
    "lambda arguments: expression"
   ]
  },
  {
   "cell_type": "markdown",
   "id": "4c971cdc",
   "metadata": {},
   "source": [
    "Lambda functions can take any number of arguments, but they can only have a single expression. The result of the expression is returned when the lambda function is called.\n",
    "\n",
    "Example of a lambda function:"
   ]
  },
  {
   "cell_type": "code",
   "execution_count": 25,
   "id": "520dd747",
   "metadata": {},
   "outputs": [
    {
     "name": "stdout",
     "output_type": "stream",
     "text": [
      "25\n",
      "25\n"
     ]
    }
   ],
   "source": [
    "# Regular function to calculate the square of a number\n",
    "def square(x):\n",
    "    return x ** 2\n",
    "\n",
    "# Equivalent lambda function\n",
    "lambda_square = lambda x: x ** 2\n",
    "\n",
    "print(square(5))         # Output: 25\n",
    "print(lambda_square(5))  # Output: 25\n"
   ]
  },
  {
   "cell_type": "raw",
   "id": "f7144494",
   "metadata": {},
   "source": [
    "Lambda functions are different from regular functions in a few key ways:\n",
    "\n",
    "1.Syntax: Lambda functions are defined using the lambda keyword, followed by arguments and an expression. Regular functions are defined using the def keyword, followed by the function name, arguments, and the function body.\n",
    "\n",
    "2.Single Expression: Lambda functions are limited to a single expression, while regular functions can have multiple statements and a more complex structure.\n",
    "\n",
    "3.Name: Lambda functions are often anonymous, meaning they don't require a function name. Regular functions are usually named using the def keyword.\n",
    "\n",
    "4.Usage: Lambda functions are typically used for simple tasks and are often used inline (i.e., within other functions or expressions) due to their concise nature. Regular functions are used for more complex tasks and are defined as standalone units.\n",
    "\n",
    "Example where a lambda function can be useful:"
   ]
  },
  {
   "cell_type": "code",
   "execution_count": 26,
   "id": "ebf0dcfe",
   "metadata": {},
   "outputs": [
    {
     "name": "stdout",
     "output_type": "stream",
     "text": [
      "[(4, 1), (3, 2), (1, 5), (2, 8)]\n"
     ]
    }
   ],
   "source": [
    "# Sorting a list of tuples based on the second element using a lambda function\n",
    "data = [(1, 5), (3, 2), (2, 8), (4, 1)]\n",
    "sorted_data = sorted(data, key=lambda x: x[1])\n",
    "print(sorted_data)  # Output: [(4, 1), (3, 2), (1, 5), (2, 8)]"
   ]
  },
  {
   "cell_type": "markdown",
   "id": "035d3827",
   "metadata": {},
   "source": [
    "In this example, a lambda function is used as the key argument in the sorted() function to sort a list of tuples based on the second element of each tuple. This avoids the need to define a separate named function using def."
   ]
  },
  {
   "cell_type": "markdown",
   "id": "e95ce06f",
   "metadata": {},
   "source": [
    "Q5. How does the concept of \"scope\" apply to functions in Python? Explain the difference between local\n",
    "scope and global scope."
   ]
  },
  {
   "cell_type": "raw",
   "id": "55e54c93",
   "metadata": {},
   "source": [
    "Ans- In Python, \"scope\" refers to the visibility and accessibility of variables within different parts of your code. Variables in Python can have different levels of scope, which determines where they can be accessed and modified. The concept of scope applies to functions in Python, and it's important to understand the distinction between local scope and global scope.\n",
    "\n",
    "1. Local Scope: Local scope refers to the area within a function where variables are defined. Variables created inside a function are said to have local scope, which means they are only accessible within that function. These variables are often referred to as \"local variables.\"\n",
    "\n",
    "Example of local scope:"
   ]
  },
  {
   "cell_type": "code",
   "execution_count": 27,
   "id": "0770f346",
   "metadata": {},
   "outputs": [
    {
     "name": "stdout",
     "output_type": "stream",
     "text": [
      "10\n"
     ]
    }
   ],
   "source": [
    "def my_function():\n",
    "    x = 10  # Local variable\n",
    "    print(x)  # Accessible here\n",
    "\n",
    "my_function()\n",
    "# print(x)  # This would result in an error, as 'x' is not accessible here\n"
   ]
  },
  {
   "cell_type": "markdown",
   "id": "d2fc5f9e",
   "metadata": {},
   "source": [
    "In this example, the variable x is defined within the function my_function(), and it can only be accessed within that function. Attempting to access x outside the function would result in an error."
   ]
  },
  {
   "cell_type": "raw",
   "id": "b970cbb0",
   "metadata": {},
   "source": [
    "2. Global Scope: Global scope refers to the top-level of your code or the module in which variables are defined. Variables created outside any function have global scope, which means they can be accessed from anywhere in the code, including within functions.\n",
    "\n",
    "Example of global scope:"
   ]
  },
  {
   "cell_type": "code",
   "execution_count": 28,
   "id": "acc2ed79",
   "metadata": {},
   "outputs": [
    {
     "name": "stdout",
     "output_type": "stream",
     "text": [
      "20\n",
      "20\n"
     ]
    }
   ],
   "source": [
    "y = 20  # Global variable\n",
    "\n",
    "def another_function():\n",
    "    print(y)  # Accessible here\n",
    "\n",
    "another_function()\n",
    "print(y)  # Also accessible here\n"
   ]
  },
  {
   "cell_type": "markdown",
   "id": "50c0a0fd",
   "metadata": {},
   "source": [
    "In this example, the variable y is defined outside any function, giving it global scope. As a result, it can be accessed both within the another_function() and outside it."
   ]
  },
  {
   "cell_type": "markdown",
   "id": "9aff2a8e",
   "metadata": {},
   "source": [
    "In summary, the concept of scope in Python refers to the accessibility of variables within different parts of our code. Local scope pertains to variables defined within functions, while global scope pertains to variables defined outside functions or at the top level of your code."
   ]
  },
  {
   "cell_type": "markdown",
   "id": "877ce018",
   "metadata": {},
   "source": [
    "Q6. How can you use the \"return\" statement in a Python function to return multiple values?"
   ]
  },
  {
   "cell_type": "markdown",
   "id": "9ebc7242",
   "metadata": {},
   "source": [
    "Ans- In Python, we can use the return statement in a function to return multiple values as a tuple. While a single return statement can only return a single value, we can create a tuple containing multiple values and return that tuple. The caller of the function can then unpack the tuple to retrieve the individual values.\n",
    "\n",
    "Here's how we can use the return statement to return multiple values:"
   ]
  },
  {
   "cell_type": "code",
   "execution_count": 29,
   "id": "6ff56a41",
   "metadata": {},
   "outputs": [
    {
     "name": "stdout",
     "output_type": "stream",
     "text": [
      "(10, 20, 30)\n",
      "10\n",
      "20\n",
      "30\n"
     ]
    }
   ],
   "source": [
    "def get_values():\n",
    "    x = 10\n",
    "    y = 20\n",
    "    z = 30\n",
    "    return x, y, z\n",
    "\n",
    "result = get_values()\n",
    "print(result)  # Output: (10, 20, 30)\n",
    "\n",
    "x_result, y_result, z_result = get_values()\n",
    "print(x_result)  # Output: 10\n",
    "print(y_result)  # Output: 20\n",
    "print(z_result)  # Output: 30\n"
   ]
  },
  {
   "cell_type": "markdown",
   "id": "3b133002",
   "metadata": {},
   "source": [
    "Q7. What is the difference between the \"pass by value\" and \"pass by reference\" concepts when it\n",
    "comes to function arguments in Python?"
   ]
  },
  {
   "cell_type": "markdown",
   "id": "c6940784",
   "metadata": {},
   "source": [
    "Ans- In Python, the concepts of \"pass by value\" and \"pass by reference\" can be a bit nuanced, as the way arguments are passed to functions in Python is slightly different from some other programming languages. Python uses a mechanism that is often called \"pass by object reference\" or \"call by sharing.\"\n",
    "\n",
    "Here's a breakdown of the concepts:\n",
    "\n",
    "1. Pass by Value: In a \"pass by value\" scenario, the actual value of a variable is passed to a function. This means that any changes made to the parameter inside the function do not affect the original variable outside the function. This is how primitive types like integers and floats are often passed in languages like C or Java.\n",
    "\n",
    "2. Pass by Reference: In a \"pass by reference\" scenario, a reference to the original variable is passed to the function. Changes made to the parameter inside the function directly affect the original variable outside the function. This is common with complex data structures like arrays in languages like C++.\n",
    "\n",
    "In Python:\n",
    "\n",
    "Python uses a mechanism that is more accurately described as \"pass by object reference\" or \"call by sharing.\" When you pass an argument to a function, you are passing a reference to the object, not the object itself.\n",
    "\n",
    "However, the distinction between \"pass by value\" and \"pass by reference\" becomes less important in Python due to its memory model:\n",
    "\n",
    "1. Immutable Objects: Immutable objects like integers, strings, and tuples are effectively passed by value. Any changes made to these objects inside the function do not affect the original objects outside the function. This might make it seem like Python uses \"pass by value\" for these types.\n",
    "\n",
    "2. Mutable Objects: Mutable objects like lists and dictionaries are effectively passed by reference. Changes made to these objects inside the function will affect the original objects outside the function. This might make it seem like Python uses \"pass by reference\" for these types.\n",
    "\n",
    "However, the key point is that even though changes to mutable objects can be seen outside the function, you can't replace the entire object with a new one and expect the change to be reflected outside the function. If you reassign a mutable object to a new instance inside the function, the change will not be visible outside the function."
   ]
  },
  {
   "cell_type": "raw",
   "id": "f5ce797e",
   "metadata": {},
   "source": [
    "Q8. Create a function that can intake integer or decimal value and do following operations:\n",
    "a. Logarithmic function (log x)\n",
    "b. Exponential function (exp(x))\n",
    "c. Power function with base 2 (2^x)\n",
    "d. Square root"
   ]
  },
  {
   "cell_type": "code",
   "execution_count": 30,
   "id": "1429080c",
   "metadata": {},
   "outputs": [
    {
     "name": "stdout",
     "output_type": "stream",
     "text": [
      "Enter a numeric value: \n"
     ]
    },
    {
     "ename": "ValueError",
     "evalue": "could not convert string to float: ''",
     "output_type": "error",
     "traceback": [
      "\u001b[1;31m---------------------------------------------------------------------------\u001b[0m",
      "\u001b[1;31mValueError\u001b[0m                                Traceback (most recent call last)",
      "\u001b[1;32m~\\AppData\\Local\\Temp\\ipykernel_1076\\243601076.py\u001b[0m in \u001b[0;36m<module>\u001b[1;34m\u001b[0m\n\u001b[0;32m     24\u001b[0m \u001b[1;33m\u001b[0m\u001b[0m\n\u001b[0;32m     25\u001b[0m \u001b[1;31m# Testing the function with an example value\u001b[0m\u001b[1;33m\u001b[0m\u001b[1;33m\u001b[0m\u001b[0m\n\u001b[1;32m---> 26\u001b[1;33m \u001b[0minput_value\u001b[0m \u001b[1;33m=\u001b[0m \u001b[0mfloat\u001b[0m\u001b[1;33m(\u001b[0m\u001b[0minput\u001b[0m\u001b[1;33m(\u001b[0m\u001b[1;34m\"Enter a numeric value: \"\u001b[0m\u001b[1;33m)\u001b[0m\u001b[1;33m)\u001b[0m\u001b[1;33m\u001b[0m\u001b[1;33m\u001b[0m\u001b[0m\n\u001b[0m\u001b[0;32m     27\u001b[0m \u001b[0moperation_results\u001b[0m \u001b[1;33m=\u001b[0m \u001b[0mperform_operations\u001b[0m\u001b[1;33m(\u001b[0m\u001b[0minput_value\u001b[0m\u001b[1;33m)\u001b[0m\u001b[1;33m\u001b[0m\u001b[1;33m\u001b[0m\u001b[0m\n\u001b[0;32m     28\u001b[0m \u001b[1;33m\u001b[0m\u001b[0m\n",
      "\u001b[1;31mValueError\u001b[0m: could not convert string to float: ''"
     ]
    }
   ],
   "source": [
    "import math\n",
    "\n",
    "def perform_operations(x):\n",
    "    # Logarithmic function (log x)\n",
    "    logarithm_result = math.log(x)\n",
    "\n",
    "    # Exponential function (exp(x))\n",
    "    exponential_result = math.exp(x)\n",
    "\n",
    "    # Power function with base 2 (2^x)\n",
    "    power_result = 2 ** x\n",
    "\n",
    "    # Square root\n",
    "    square_root_result = math.sqrt(x)\n",
    "\n",
    "    results = {\n",
    "        'logarithm': logarithm_result,\n",
    "        'exponential': exponential_result,\n",
    "        'power_2': power_result,\n",
    "        'square_root': square_root_result\n",
    "    }\n",
    "\n",
    "    return results\n",
    "\n",
    "# Testing the function with an example value\n",
    "input_value = float(input(\"Enter a numeric value: \"))\n",
    "operation_results = perform_operations(input_value)\n",
    "\n",
    "print(f\"Logarithm: {operation_results['logarithm']}\")\n",
    "print(f\"Exponential: {operation_results['exponential']}\")\n",
    "print(f\"Power 2: {operation_results['power_2']}\")\n",
    "print(f\"Square Root: {operation_results['square_root']}\")\n"
   ]
  },
  {
   "cell_type": "markdown",
   "id": "37c20c66",
   "metadata": {},
   "source": [
    "Q9. Create a function that takes a full name as an argument and returns first name and last name."
   ]
  },
  {
   "cell_type": "code",
   "execution_count": 31,
   "id": "ac6e98ce",
   "metadata": {},
   "outputs": [
    {
     "name": "stdout",
     "output_type": "stream",
     "text": [
      "First Name: John\n",
      "Last Name: Doe\n"
     ]
    }
   ],
   "source": [
    "def get_first_last_name(full_name):\n",
    "    # Splitting the full name into parts using whitespace\n",
    "    name_parts = full_name.split()\n",
    "\n",
    "    # The first part is the first name\n",
    "    first_name = name_parts[0]\n",
    "\n",
    "    # The last part is the last name (if available)\n",
    "    last_name = name_parts[-1] if len(name_parts) > 1 else \"\"\n",
    "\n",
    "    return first_name, last_name\n",
    "\n",
    "# Example usage\n",
    "full_name = \"John Doe\"\n",
    "first_name, last_name = get_first_last_name(full_name)\n",
    "print(\"First Name:\", first_name)\n",
    "print(\"Last Name:\", last_name)\n"
   ]
  },
  {
   "cell_type": "code",
   "execution_count": null,
   "id": "5574a69e",
   "metadata": {},
   "outputs": [],
   "source": []
  }
 ],
 "metadata": {
  "kernelspec": {
   "display_name": "Python 3 (ipykernel)",
   "language": "python",
   "name": "python3"
  },
  "language_info": {
   "codemirror_mode": {
    "name": "ipython",
    "version": 3
   },
   "file_extension": ".py",
   "mimetype": "text/x-python",
   "name": "python",
   "nbconvert_exporter": "python",
   "pygments_lexer": "ipython3",
   "version": "3.9.13"
  }
 },
 "nbformat": 4,
 "nbformat_minor": 5
}
